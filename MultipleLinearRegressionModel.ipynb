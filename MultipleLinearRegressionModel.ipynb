{
 "cells": [
  {
   "cell_type": "code",
   "execution_count": null,
   "id": "1c592f56-31fe-4b10-bc50-2977762cf84b",
   "metadata": {},
   "outputs": [],
   "source": [
    "\n",
    "def multiple_linear_regression(X, y, num_iter=1000, learning_rate=0.1,\n",
    "                               tol=1e-6, verbose=True):\n",
    "    \"\"\"\n",
    "    Batch gradient descent for linear regression with multiple features.\n",
    "\n",
    "    Parameters\n",
    "    ----------\n",
    "    X : np.ndarray, shape (m, n)\n",
    "        Feature matrix.\n",
    "    y : np.ndarray, shape (m,)\n",
    "        Target values.\n",
    "    num_iter : int\n",
    "        Maximum number of iterations.\n",
    "    learning_rate : float\n",
    "        Step size (alpha).\n",
    "    tol : float\n",
    "        Convergence threshold on gradient norm.\n",
    "    verbose : bool\n",
    "        Whether to print progress.\n",
    "\n",
    "    Returns\n",
    "    -------\n",
    "    costs : list of float\n",
    "        Cost at each iteration.\n",
    "    weights : list of np.ndarray\n",
    "        History of weight vectors.\n",
    "    biases : list of float\n",
    "        History of bias terms.\n",
    "    \"\"\"\n",
    "    m, n = X.shape\n",
    "    w = np.random.randn(n)       # (n,)\n",
    "    b = np.random.randn()        # scalar\n",
    "\n",
    "    costs, weights, biases = [], [], []\n",
    "\n",
    "    for i in range(num_iter):\n",
    "        # --- Forward pass ---\n",
    "        y_hat = X @ w + b              # (m,)\n",
    "        error = y_hat - y              # (m,)\n",
    "        cost = (error @ error) / (2 * m)\n",
    "\n",
    "        # --- Gradients ---\n",
    "        grad_w = (X.T @ error) / m     # (n,)\n",
    "        grad_b = np.mean(error)        # scalar\n",
    "\n",
    "        # --- Convergence check based on gradient ---\n",
    "        grad_norm = np.linalg.norm(grad_w)\n",
    "        if grad_norm < tol and abs(grad_b) < tol:\n",
    "            if verbose:\n",
    "                print(f\"Converged at iteration {i} (gradient norm = {grad_norm:.2e})\")\n",
    "            break\n",
    "\n",
    "        # --- Parameter update ---\n",
    "        w = w - learning_rate * grad_w\n",
    "        b = b - learning_rate * grad_b\n",
    "\n",
    "        # --- Tracking ---\n",
    "        costs.append(cost)\n",
    "        weights.append(w.copy())\n",
    "        biases.append(b)\n",
    "\n",
    "        if verbose and i % 100 == 0:\n",
    "            print(f\"Iter {i:4d} | Cost = {cost:.6f} | Grad Norm = {grad_norm:.2e}\")\n",
    "\n",
    "    return np.array(costs), np.array(weights), np.array(biases)\n",
    "    "
   ]
  },
  {
   "cell_type": "code",
   "execution_count": null,
   "id": "8114f243-3af0-4225-a19a-54b393452e0a",
   "metadata": {},
   "outputs": [],
   "source": [
    "# Fake data for testing\n",
    "np.random.seed(0)\n",
    "X = np.random.randn(100, 3)\n",
    "true_w = np.array([1.5, -2.0, 0.7])\n",
    "true_b = 0.5\n",
    "y = X @ true_w + true_b + 0.1 * np.random.randn(100)\n",
    "\n",
    "# Run the optimizer\n",
    "costs, weights, biases = multiple_linear_regression(X, y, learning_rate=0.05)"
   ]
  },
  {
   "cell_type": "code",
   "execution_count": null,
   "id": "c9a3688b-8b8d-4385-928d-75769a84e38a",
   "metadata": {},
   "outputs": [],
   "source": []
  },
  {
   "cell_type": "code",
   "execution_count": null,
   "id": "40ae466b-f5c7-4e00-b513-7f4191debc40",
   "metadata": {},
   "outputs": [],
   "source": [
    "\n"
   ]
  },
  {
   "cell_type": "code",
   "execution_count": null,
   "id": "d9e679af-2b79-4875-b1e7-b30db8b42ad6",
   "metadata": {},
   "outputs": [],
   "source": [
    "\n"
   ]
  },
  {
   "cell_type": "code",
   "execution_count": null,
   "id": "1a962b69-d8d6-48c5-8820-f4c833ce4538",
   "metadata": {},
   "outputs": [],
   "source": []
  },
  {
   "cell_type": "code",
   "execution_count": null,
   "id": "29795ceb-9ab2-4039-a764-7c2ebfbbd862",
   "metadata": {},
   "outputs": [],
   "source": []
  }
 ],
 "metadata": {
  "kernelspec": {
   "display_name": "Python 3 (ipykernel)",
   "language": "python",
   "name": "python3"
  },
  "language_info": {
   "codemirror_mode": {
    "name": "ipython",
    "version": 3
   },
   "file_extension": ".py",
   "mimetype": "text/x-python",
   "name": "python",
   "nbconvert_exporter": "python",
   "pygments_lexer": "ipython3",
   "version": "3.12.3"
  }
 },
 "nbformat": 4,
 "nbformat_minor": 5
}
